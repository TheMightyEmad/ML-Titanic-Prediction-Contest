{
 "cells": [
  {
   "cell_type": "code",
   "execution_count": 320,
   "id": "611dae23-6e88-40cd-84cf-d4df21543271",
   "metadata": {},
   "outputs": [],
   "source": [
    "import pandas as pd\n",
    "import numpy as np\n",
    "import matplotlib.pyplot as plt\n",
    "from sklearn.cluster import KMeans\n",
    "from sklearn.metrics import confusion_matrix, classification_report, roc_curve, roc_auc_score\n",
    "from sklearn.linear_model import LogisticRegression\n",
    "from sklearn.model_selection import train_test_split\n",
    "import numpy as np\n",
    "from sklearn.preprocessing import StandardScaler\n",
    "from sklearn.preprocessing import MinMaxScaler"
   ]
  },
  {
   "cell_type": "code",
   "execution_count": 321,
   "id": "83b4ed4f-69e0-44da-a902-944899a3d5b7",
   "metadata": {},
   "outputs": [
    {
     "data": {
      "text/html": [
       "<div>\n",
       "<style scoped>\n",
       "    .dataframe tbody tr th:only-of-type {\n",
       "        vertical-align: middle;\n",
       "    }\n",
       "\n",
       "    .dataframe tbody tr th {\n",
       "        vertical-align: top;\n",
       "    }\n",
       "\n",
       "    .dataframe thead th {\n",
       "        text-align: right;\n",
       "    }\n",
       "</style>\n",
       "<table border=\"1\" class=\"dataframe\">\n",
       "  <thead>\n",
       "    <tr style=\"text-align: right;\">\n",
       "      <th></th>\n",
       "      <th>PassengerId</th>\n",
       "      <th>Survived</th>\n",
       "      <th>Pclass</th>\n",
       "      <th>Name</th>\n",
       "      <th>Sex</th>\n",
       "      <th>Age</th>\n",
       "      <th>SibSp</th>\n",
       "      <th>Parch</th>\n",
       "      <th>Ticket</th>\n",
       "      <th>Fare</th>\n",
       "      <th>Cabin</th>\n",
       "      <th>Embarked</th>\n",
       "    </tr>\n",
       "  </thead>\n",
       "  <tbody>\n",
       "    <tr>\n",
       "      <th>0</th>\n",
       "      <td>1</td>\n",
       "      <td>0</td>\n",
       "      <td>3</td>\n",
       "      <td>Braund, Mr. Owen Harris</td>\n",
       "      <td>male</td>\n",
       "      <td>22.0</td>\n",
       "      <td>1</td>\n",
       "      <td>0</td>\n",
       "      <td>A/5 21171</td>\n",
       "      <td>7.2500</td>\n",
       "      <td>NaN</td>\n",
       "      <td>S</td>\n",
       "    </tr>\n",
       "    <tr>\n",
       "      <th>1</th>\n",
       "      <td>2</td>\n",
       "      <td>1</td>\n",
       "      <td>1</td>\n",
       "      <td>Cumings, Mrs. John Bradley (Florence Briggs Th...</td>\n",
       "      <td>female</td>\n",
       "      <td>38.0</td>\n",
       "      <td>1</td>\n",
       "      <td>0</td>\n",
       "      <td>PC 17599</td>\n",
       "      <td>71.2833</td>\n",
       "      <td>C85</td>\n",
       "      <td>C</td>\n",
       "    </tr>\n",
       "    <tr>\n",
       "      <th>2</th>\n",
       "      <td>3</td>\n",
       "      <td>1</td>\n",
       "      <td>3</td>\n",
       "      <td>Heikkinen, Miss. Laina</td>\n",
       "      <td>female</td>\n",
       "      <td>26.0</td>\n",
       "      <td>0</td>\n",
       "      <td>0</td>\n",
       "      <td>STON/O2. 3101282</td>\n",
       "      <td>7.9250</td>\n",
       "      <td>NaN</td>\n",
       "      <td>S</td>\n",
       "    </tr>\n",
       "    <tr>\n",
       "      <th>3</th>\n",
       "      <td>4</td>\n",
       "      <td>1</td>\n",
       "      <td>1</td>\n",
       "      <td>Futrelle, Mrs. Jacques Heath (Lily May Peel)</td>\n",
       "      <td>female</td>\n",
       "      <td>35.0</td>\n",
       "      <td>1</td>\n",
       "      <td>0</td>\n",
       "      <td>113803</td>\n",
       "      <td>53.1000</td>\n",
       "      <td>C123</td>\n",
       "      <td>S</td>\n",
       "    </tr>\n",
       "    <tr>\n",
       "      <th>4</th>\n",
       "      <td>5</td>\n",
       "      <td>0</td>\n",
       "      <td>3</td>\n",
       "      <td>Allen, Mr. William Henry</td>\n",
       "      <td>male</td>\n",
       "      <td>35.0</td>\n",
       "      <td>0</td>\n",
       "      <td>0</td>\n",
       "      <td>373450</td>\n",
       "      <td>8.0500</td>\n",
       "      <td>NaN</td>\n",
       "      <td>S</td>\n",
       "    </tr>\n",
       "  </tbody>\n",
       "</table>\n",
       "</div>"
      ],
      "text/plain": [
       "   PassengerId  Survived  Pclass  \\\n",
       "0            1         0       3   \n",
       "1            2         1       1   \n",
       "2            3         1       3   \n",
       "3            4         1       1   \n",
       "4            5         0       3   \n",
       "\n",
       "                                                Name     Sex   Age  SibSp  \\\n",
       "0                            Braund, Mr. Owen Harris    male  22.0      1   \n",
       "1  Cumings, Mrs. John Bradley (Florence Briggs Th...  female  38.0      1   \n",
       "2                             Heikkinen, Miss. Laina  female  26.0      0   \n",
       "3       Futrelle, Mrs. Jacques Heath (Lily May Peel)  female  35.0      1   \n",
       "4                           Allen, Mr. William Henry    male  35.0      0   \n",
       "\n",
       "   Parch            Ticket     Fare Cabin Embarked  \n",
       "0      0         A/5 21171   7.2500   NaN        S  \n",
       "1      0          PC 17599  71.2833   C85        C  \n",
       "2      0  STON/O2. 3101282   7.9250   NaN        S  \n",
       "3      0            113803  53.1000  C123        S  \n",
       "4      0            373450   8.0500   NaN        S  "
      ]
     },
     "execution_count": 321,
     "metadata": {},
     "output_type": "execute_result"
    }
   ],
   "source": [
    "df=pd.read_csv('train.csv')\n",
    "df.head()"
   ]
  },
  {
   "cell_type": "code",
   "execution_count": 322,
   "id": "8e16755a-fafb-4c49-bcd5-26b5e5434124",
   "metadata": {},
   "outputs": [],
   "source": [
    "#clear NaN ages\n",
    "df = df[df['Age'].notna()]\n",
    "df = df.reset_index(drop=True)"
   ]
  },
  {
   "cell_type": "code",
   "execution_count": 323,
   "id": "1309e9e1-3547-4542-9d7c-209d2f936f6d",
   "metadata": {},
   "outputs": [
    {
     "data": {
      "text/html": [
       "<div>\n",
       "<style scoped>\n",
       "    .dataframe tbody tr th:only-of-type {\n",
       "        vertical-align: middle;\n",
       "    }\n",
       "\n",
       "    .dataframe tbody tr th {\n",
       "        vertical-align: top;\n",
       "    }\n",
       "\n",
       "    .dataframe thead th {\n",
       "        text-align: right;\n",
       "    }\n",
       "</style>\n",
       "<table border=\"1\" class=\"dataframe\">\n",
       "  <thead>\n",
       "    <tr style=\"text-align: right;\">\n",
       "      <th></th>\n",
       "      <th>PassengerId</th>\n",
       "      <th>Survived</th>\n",
       "      <th>Pclass</th>\n",
       "      <th>Name</th>\n",
       "      <th>Sex</th>\n",
       "      <th>Age</th>\n",
       "      <th>SibSp</th>\n",
       "      <th>Parch</th>\n",
       "      <th>Ticket</th>\n",
       "      <th>Fare</th>\n",
       "      <th>Cabin</th>\n",
       "      <th>Embarked</th>\n",
       "    </tr>\n",
       "  </thead>\n",
       "  <tbody>\n",
       "    <tr>\n",
       "      <th>212</th>\n",
       "      <td>264</td>\n",
       "      <td>0</td>\n",
       "      <td>1</td>\n",
       "      <td>Harrison, Mr. William</td>\n",
       "      <td>male</td>\n",
       "      <td>40.0</td>\n",
       "      <td>0</td>\n",
       "      <td>0</td>\n",
       "      <td>112059</td>\n",
       "      <td>0.0</td>\n",
       "      <td>B94</td>\n",
       "      <td>S</td>\n",
       "    </tr>\n",
       "    <tr>\n",
       "      <th>643</th>\n",
       "      <td>807</td>\n",
       "      <td>0</td>\n",
       "      <td>1</td>\n",
       "      <td>Andrews, Mr. Thomas Jr</td>\n",
       "      <td>male</td>\n",
       "      <td>39.0</td>\n",
       "      <td>0</td>\n",
       "      <td>0</td>\n",
       "      <td>112050</td>\n",
       "      <td>0.0</td>\n",
       "      <td>A36</td>\n",
       "      <td>S</td>\n",
       "    </tr>\n",
       "    <tr>\n",
       "      <th>658</th>\n",
       "      <td>823</td>\n",
       "      <td>0</td>\n",
       "      <td>1</td>\n",
       "      <td>Reuchlin, Jonkheer. John George</td>\n",
       "      <td>male</td>\n",
       "      <td>38.0</td>\n",
       "      <td>0</td>\n",
       "      <td>0</td>\n",
       "      <td>19972</td>\n",
       "      <td>0.0</td>\n",
       "      <td>NaN</td>\n",
       "      <td>S</td>\n",
       "    </tr>\n",
       "  </tbody>\n",
       "</table>\n",
       "</div>"
      ],
      "text/plain": [
       "     PassengerId  Survived  Pclass                             Name   Sex  \\\n",
       "212          264         0       1            Harrison, Mr. William  male   \n",
       "643          807         0       1           Andrews, Mr. Thomas Jr  male   \n",
       "658          823         0       1  Reuchlin, Jonkheer. John George  male   \n",
       "\n",
       "      Age  SibSp  Parch  Ticket  Fare Cabin Embarked  \n",
       "212  40.0      0      0  112059   0.0   B94        S  \n",
       "643  39.0      0      0  112050   0.0   A36        S  \n",
       "658  38.0      0      0   19972   0.0   NaN        S  "
      ]
     },
     "execution_count": 323,
     "metadata": {},
     "output_type": "execute_result"
    }
   ],
   "source": [
    " df.loc[(df['Fare']<5) & (df['Pclass']<3)]"
   ]
  },
  {
   "cell_type": "code",
   "execution_count": 324,
   "id": "3f9962f3-2be7-4bdb-9d05-e3dd9c7ad48e",
   "metadata": {},
   "outputs": [],
   "source": [
    "#set the missing fair of pclasses\n",
    "mean_fare_1=df['Fare'].loc[df['Pclass']==1].mean()\n",
    "df.loc[(df.loc[(df['Fare']<4)&(df['Pclass']==1)]).index,'Fare']=mean_fare_3\n",
    "mean_fare_2=df['Fare'].loc[df['Pclass']==2].mean()\n",
    "df.loc[(df.loc[(df['Fare']<4)&(df['Pclass']==2)]).index,'Fare']=mean_fare_2\n",
    "mean_fare_3=df['Fare'].loc[df['Pclass']==1].mean()\n",
    "df.loc[(df.loc[(df['Fare']<4)&(df['Pclass']==3)]).index,'Fare']=mean_fare_3"
   ]
  },
  {
   "cell_type": "code",
   "execution_count": 325,
   "id": "d380b3fa-cc12-41e6-9a52-17de14b6d6f4",
   "metadata": {},
   "outputs": [],
   "source": [
    "df['Sex'] = df['Sex'].map({'male': 0, 'female': 1})"
   ]
  },
  {
   "cell_type": "code",
   "execution_count": 326,
   "id": "128d1271-89dc-449a-84a7-d1e5e7f85fc5",
   "metadata": {},
   "outputs": [
    {
     "name": "stderr",
     "output_type": "stream",
     "text": [
      "/home/almighty/conda/lib/python3.10/site-packages/sklearn/cluster/_kmeans.py:870: FutureWarning: The default value of `n_init` will change from 10 to 'auto' in 1.4. Set the value of `n_init` explicitly to suppress the warning\n",
      "  warnings.warn(\n"
     ]
    }
   ],
   "source": [
    "Age=df['Age'].values\n",
    "Age=Age.reshape(-1,1)\n",
    "kmean=KMeans(n_clusters=5)\n",
    "kmean.fit(Age)\n",
    "predict=kmean.predict(Age)\n",
    "\n",
    "df['Age_gp'] = pd.Series(predict, index=df.index)\n"
   ]
  },
  {
   "cell_type": "code",
   "execution_count": 327,
   "id": "06dce650-3914-46df-ba7f-8eb328998221",
   "metadata": {},
   "outputs": [
    {
     "name": "stderr",
     "output_type": "stream",
     "text": [
      "/home/almighty/conda/lib/python3.10/site-packages/sklearn/cluster/_kmeans.py:870: FutureWarning: The default value of `n_init` will change from 10 to 'auto' in 1.4. Set the value of `n_init` explicitly to suppress the warning\n",
      "  warnings.warn(\n"
     ]
    }
   ],
   "source": [
    "fares=df['Fare'].values\n",
    "fares=fares.reshape(-1,1)\n",
    "kmean=KMeans(n_clusters=3)\n",
    "kmean.fit(fares)\n",
    "predict=kmean.predict(fares)\n",
    "\n",
    "df['Money'] = pd.Series(predict, index=df.index)\n"
   ]
  },
  {
   "cell_type": "code",
   "execution_count": 330,
   "id": "9ab5b60a-6883-4a3b-975f-fbb2b47e628e",
   "metadata": {},
   "outputs": [
    {
     "data": {
      "text/plain": [
       "Text(0.5, 1.0, 'Money')"
      ]
     },
     "execution_count": 330,
     "metadata": {},
     "output_type": "execute_result"
    },
    {
     "data": {
      "image/png": "[encoded data removed]",
      "text/plain": [
       "<Figure size 640x480 with 4 Axes>"
      ]
     },
     "metadata": {},
     "output_type": "display_data"
    }
   ],
   "source": [
    "fig, axs = plt.subplots(2, 2)\n",
    "mean_Embarked = df.groupby('Embarked')['Survived'].mean()\n",
    "mean_Sex = df.groupby('Sex')['Survived'].mean()\n",
    "mean_Pclass = df.groupby('Pclass')['Survived'].mean()\n",
    "mean_Money = df.groupby('Money')['Survived'].mean()\n",
    "\n",
    "fig.subplots_adjust(wspace=0.3, hspace=0.3)\n",
    "# Plot each set of data on a separate subplot\n",
    "axs[0, 0].barh(mean_Embarked.index, mean_Embarked.values)\n",
    "axs[0, 0].set_title('Embarked')\n",
    "axs[0, 1].barh(mean_Sex.index, mean_Sex.values)\n",
    "axs[0, 1].set_title('Sex')\n",
    "axs[1, 0].barh(mean_Pclass.index, mean_Pclass.values)\n",
    "axs[1, 0].set_title('Pclass')\n",
    "axs[1, 1].barh(mean_Money.index, mean_Money.values)\n",
    "axs[1, 1].set_title('Money')"
   ]
  },
  {
   "cell_type": "code",
   "execution_count": 331,
   "id": "2f09c2ba-d405-48b9-beca-96c2ce7c9dc3",
   "metadata": {},
   "outputs": [],
   "source": [
    "#encode embark location with one-hot-encoding\n",
    "df_encoded = pd.get_dummies(df, columns=['Embarked'])\n",
    "#df_encoded = pd.get_dummies(df_encoded, columns=['Age_gp'])\n",
    "df_encoded=df_encoded.drop(['Name','Ticket','Age_gp','PassengerId','Cabin','Money'],axis=1)"
   ]
  },
  {
   "cell_type": "code",
   "execution_count": 334,
   "id": "cb601b4c-78f5-47dc-a21d-3bac60f9681b",
   "metadata": {},
   "outputs": [],
   "source": [
    "scaler = MinMaxScaler()\n",
    "df_encoded['Age'] = scaler.fit_transform(df_encoded[['Age']])\n",
    "df_encoded['Fare'] = scaler.fit_transform(df_encoded[['Fare']])"
   ]
  },
  {
   "cell_type": "code",
   "execution_count": 335,
   "id": "a43dd21f-8f7e-40dd-a05b-7a98686edbe8",
   "metadata": {},
   "outputs": [],
   "source": [
    "y = df_encoded.iloc[:,0]\n",
    "X = df_encoded.iloc[:,1:]\n",
    "X_train, X_test, y_train, y_test = train_test_split(X, y, test_size=0.3, random_state=0)"
   ]
  },
  {
   "cell_type": "code",
   "execution_count": 336,
   "id": "537136fc-d916-45e3-86fa-fb4e2cbd775d",
   "metadata": {},
   "outputs": [
    {
     "name": "stdout",
     "output_type": "stream",
     "text": [
      "Confusion Matrix:\n",
      " [[114  11]\n",
      " [ 27  63]]\n",
      "\n",
      "Classification Report:\n",
      "               precision    recall  f1-score   support\n",
      "\n",
      "           0       0.81      0.91      0.86       125\n",
      "           1       0.85      0.70      0.77        90\n",
      "\n",
      "    accuracy                           0.82       215\n",
      "   macro avg       0.83      0.81      0.81       215\n",
      "weighted avg       0.83      0.82      0.82       215\n",
      "\n",
      "\n",
      "AUC Score:  0.806\n"
     ]
    }
   ],
   "source": [
    "from sklearn.ensemble import RandomForestClassifier\n",
    "clf = RandomForestClassifier(n_estimators=2000, max_depth=5, random_state=42)\n",
    "clf.fit(X_train, y_train)\n",
    "y_pred = clf.predict(X_test)\n",
    "\n",
    "print(\"Confusion Matrix:\\n\", confusion_matrix(y_test, y_pred))\n",
    "print(\"\\nClassification Report:\\n\", classification_report(y_test, y_pred))\n",
    "auc = roc_auc_score(y_test, y_pred)\n",
    "fpr, tpr, thresholds = roc_curve(y_test, y_pred)\n",
    "print(\"\\nAUC Score: \", auc)"
   ]
  },
  {
   "cell_type": "code",
   "execution_count": 337,
   "id": "a273b1dc-a093-4934-bb62-5c30a85e81e8",
   "metadata": {},
   "outputs": [
    {
     "name": "stdout",
     "output_type": "stream",
     "text": [
      "Confusion Matrix:\n",
      " [[108  17]\n",
      " [ 28  62]]\n",
      "\n",
      "Classification Report:\n",
      "               precision    recall  f1-score   support\n",
      "\n",
      "           0       0.79      0.86      0.83       125\n",
      "           1       0.78      0.69      0.73        90\n",
      "\n",
      "    accuracy                           0.79       215\n",
      "   macro avg       0.79      0.78      0.78       215\n",
      "weighted avg       0.79      0.79      0.79       215\n",
      "\n",
      "\n",
      "AUC Score:  0.7764444444444445\n"
     ]
    }
   ],
   "source": [
    "from sklearn.svm import SVC\n",
    "clf = SVC(kernel='linear', C=1)\n",
    "clf.fit(X_train, y_train)\n",
    "y_pred = clf.predict(X_test)\n",
    "print(\"Confusion Matrix:\\n\", confusion_matrix(y_test, y_pred))\n",
    "print(\"\\nClassification Report:\\n\", classification_report(y_test, y_pred))\n",
    "auc = roc_auc_score(y_test, y_pred)\n",
    "fpr, tpr, thresholds = roc_curve(y_test, y_pred)\n",
    "print(\"\\nAUC Score: \", auc)\n"
   ]
  },
  {
   "cell_type": "code",
   "execution_count": 338,
   "id": "7b142f15-6913-4116-bb40-6e91f8f87635",
   "metadata": {},
   "outputs": [
    {
     "name": "stdout",
     "output_type": "stream",
     "text": [
      "Confusion Matrix:\n",
      " [[109  16]\n",
      " [ 22  68]]\n",
      "\n",
      "Classification Report:\n",
      "               precision    recall  f1-score   support\n",
      "\n",
      "           0       0.83      0.87      0.85       125\n",
      "           1       0.81      0.76      0.78        90\n",
      "\n",
      "    accuracy                           0.82       215\n",
      "   macro avg       0.82      0.81      0.82       215\n",
      "weighted avg       0.82      0.82      0.82       215\n",
      "\n",
      "\n",
      "AUC Score:  0.8137777777777778\n"
     ]
    }
   ],
   "source": [
    "logreg = LogisticRegression(max_iter=300)\n",
    "logreg.fit(X_train, y_train)\n",
    "y_pred = logreg.predict(X_test)\n",
    "print(\"Confusion Matrix:\\n\", confusion_matrix(y_test, y_pred))\n",
    "print(\"\\nClassification Report:\\n\", classification_report(y_test, y_pred))\n",
    "auc = roc_auc_score(y_test, y_pred)\n",
    "fpr, tpr, thresholds = roc_curve(y_test, y_pred)\n",
    "print(\"\\nAUC Score: \", auc)"
   ]
  },
  {
   "cell_type": "code",
   "execution_count": null,
   "id": "bcd131db-6111-44eb-964b-15529e323be8",
   "metadata": {},
   "outputs": [],
   "source": []
  },
  {
   "cell_type": "code",
   "execution_count": 339,
   "id": "07e7dc68-81b5-4104-94af-f43358a4325c",
   "metadata": {},
   "outputs": [
    {
     "data": {
      "image/png": "[encoded data removed]",
      "text/plain": [
       "<Figure size 800x800 with 1 Axes>"
      ]
     },
     "metadata": {},
     "output_type": "display_data"
    }
   ],
   "source": [
    "cm = confusion_matrix(y_test, y_pred)\n",
    "\n",
    "# Plotting the confusion matrix using matplotlib\n",
    "fig, ax = plt.subplots(figsize=(8, 8))\n",
    "ax.imshow(cm, cmap=plt.cm.Blues)\n",
    "ax.grid(False)\n",
    "ax.set_xlabel('Predicted Outputs', fontsize=12, color=\"black\")\n",
    "ax.set_ylabel('True Outputs', fontsize=12, color=\"black\")\n",
    "ax.set_xticks(np.arange(2))\n",
    "ax.set_yticks(np.arange(2))\n",
    "ax.xaxis.set_ticklabels(['0', '1'])\n",
    "ax.yaxis.set_ticklabels(['0', '1'])\n",
    "ax.set_ylim(len(cm)-0.5, -0.5)  # Setting the y-axis limits appropriately to match the heatmap.\n",
    "plt.title(\"Confusion Matrix\", fontsize=16, color=\"black\")\n",
    "for i in range(len(cm)):\n",
    "    for j in range(len(cm)):\n",
    "        ax.text(j, i, str(cm[i][j]), horizontalalignment='center', verticalalignment='center', color=\"black\", fontsize=16)\n",
    "plt.show()"
   ]
  },
  {
   "cell_type": "markdown",
   "id": "bb62f2de-f339-4183-b45d-fa61ee9d1c26",
   "metadata": {},
   "source": [
    "clean the test data"
   ]
  },
  {
   "cell_type": "code",
   "execution_count": 347,
   "id": "a1aa6160-5364-4cd9-995a-366780c0b7b7",
   "metadata": {},
   "outputs": [
    {
     "name": "stderr",
     "output_type": "stream",
     "text": [
      "/home/almighty/conda/lib/python3.10/site-packages/sklearn/cluster/_kmeans.py:870: FutureWarning: The default value of `n_init` will change from 10 to 'auto' in 1.4. Set the value of `n_init` explicitly to suppress the warning\n",
      "  warnings.warn(\n",
      "/home/almighty/conda/lib/python3.10/site-packages/sklearn/cluster/_kmeans.py:870: FutureWarning: The default value of `n_init` will change from 10 to 'auto' in 1.4. Set the value of `n_init` explicitly to suppress the warning\n",
      "  warnings.warn(\n"
     ]
    }
   ],
   "source": [
    "df_test=pd.read_csv('test.csv')\n",
    "mean_fare_1=df_test['Fare'].loc[df_test['Pclass']==1].mean()\n",
    "df_test.loc[(df_test.loc[(df_test['Fare']<4)&(df_test['Pclass']==1)]).index,'Fare']=mean_fare_3\n",
    "mean_fare_2=df_test['Fare'].loc[df['Pclass']==2].mean()\n",
    "df_test.loc[(df_test.loc[(df_test['Fare']<4)&(df_test['Pclass']==2)]).index,'Fare']=mean_fare_2\n",
    "mean_fare_3=df_test['Fare'].loc[df['Pclass']==1].mean()\n",
    "df_test.loc[(df_test.loc[(df_test['Fare']<4)&(df_test['Pclass']==3)]).index,'Fare']=mean_fare_3\n",
    "df_test.loc[(df_test.loc[df_test['Fare'].isna()]).index,'Fare']=mean_fare_3\n",
    "#encdoe male and female\n",
    "df_test['Sex'] = df_test['Sex'].map({'male': 0, 'female': 1})\n",
    "#fill nan values in age and fare\n",
    "age_mean = df_test['Age'].mean()\n",
    "age_median = df_test['Age'].median()\n",
    "df_test['Age'] = df_test['Age'].fillna(age_mean if age_mean < age_median else age_median)\n",
    "#create new label,money\n",
    "fares=df_test['Fare'].values\n",
    "fares=fares.reshape(-1,1)\n",
    "kmean=KMeans(n_clusters=3)\n",
    "kmean.fit(fares)\n",
    "predict=kmean.predict(fares)\n",
    "df_test['Money'] = pd.Series(predict, index=df_test.index)\n",
    "#create new label,age_gp\n",
    "Age=df_test['Age'].values\n",
    "Age=Age.reshape(-1,1)\n",
    "kmean=KMeans(n_clusters=5)\n",
    "kmean.fit(Age)\n",
    "predict=kmean.predict(Age)\n",
    "df_test['Age_gp'] = pd.Series(predict, index=df_test.index)\n",
    "#one hot encoding for embark location\n",
    "df_test = pd.get_dummies(df_test, columns=['Embarked'])\n",
    "#drop unasble rows\n",
    "df_test_final=df_test.drop(['Name','Ticket','Age_gp','PassengerId','Cabin','Money'],axis=1)\n",
    "#scale\n",
    "scaler = MinMaxScaler()\n",
    "df_test_final['Age'] = scaler.fit_transform(df_test_final[['Age']])\n",
    "df_test_final['Fare'] = scaler.fit_transform(df_test_final[['Fare']])"
   ]
  },
  {
   "cell_type": "code",
   "execution_count": 349,
   "id": "449d4c09-e699-4951-8c5f-66cded7d12c5",
   "metadata": {},
   "outputs": [],
   "source": [
    "df_test['Survived']=logreg.predict(df_test_final)\n",
    "df_test_final['Survived']=logreg.predict(df_test_final)"
   ]
  },
  {
   "cell_type": "code",
   "execution_count": 352,
   "id": "20f443be-25e1-440a-bede-76a73486485a",
   "metadata": {},
   "outputs": [],
   "source": [
    "answers=df_test.iloc[:,[0,-1]]\n",
    "answers.to_csv('output.csv', index=False)"
   ]
  }
 ],
 "metadata": {
  "kernelspec": {
   "display_name": "Python 3 (ipykernel)",
   "language": "python",
   "name": "python3"
  },
  "language_info": {
   "codemirror_mode": {
    "name": "ipython",
    "version": 3
   },
   "file_extension": ".py",
   "mimetype": "text/x-python",
   "name": "python",
   "nbconvert_exporter": "python",
   "pygments_lexer": "ipython3",
   "version": "3.10.8"
  }
 },
 "nbformat": 4,
 "nbformat_minor": 5
}
